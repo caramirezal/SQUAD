{
 "cells": [
  {
   "cell_type": "markdown",
   "metadata": {
    "deletable": true,
    "editable": true
   },
   "source": [
    "# Standardized Qualitative Analysis of Dynamics (SQUAD) R package"
   ]
  },
  {
   "cell_type": "markdown",
   "metadata": {
    "deletable": true,
    "editable": true
   },
   "source": [
    "During the definition of a regulatory network model it is frequently convenient to start with simple formalisms\n",
    "and then to transit to more refined models. Continuous interpolations of Boolean Regulatory Networks are defined \n",
    "so as to preserve dynamical characteristics of discrete model but extending the range of values of the variables.\n",
    "In this tutorial we presented the main features of the SQUAD R package to simulate continuous interpolations of \n",
    "BRN models."
   ]
  },
  {
   "cell_type": "markdown",
   "metadata": {
    "deletable": true,
    "editable": true
   },
   "source": [
    "SQUAD package is a useful tool to define, setting up and running simulations using continuous interpolations of \n",
    "regulatory network models. It also can perform stationary states search. "
   ]
  },
  {
   "cell_type": "markdown",
   "metadata": {
    "deletable": true,
    "editable": true
   },
   "source": [
    "## 1. Overview of SQUAD R package"
   ]
  },
  {
   "cell_type": "markdown",
   "metadata": {
    "deletable": true,
    "editable": true
   },
   "source": [
    "The next figure shows schematically the main features of the SQUAD R package. SQUAD extends the functionallity of \n",
    "the BoolNet R package. BoolNet has integrated a optimized method to find synchronous stable states by using the\n",
    "Dubrova algorithm. By the other hand, in an asynchronous context SQUAD performs an optimized heuristic method using BDD representations and model checking. So, the modeller can start defining a discrete BRN model and choose \n",
    "synchronous or asynchronous efficient methods for stationary states search. And then, can transit to more refined\n",
    "continuous methods."
   ]
  },
  {
   "cell_type": "markdown",
   "metadata": {
    "collapsed": true,
    "deletable": true,
    "editable": true
   },
   "source": [
    "<img src=\"SQUAD.gif\">"
   ]
  },
  {
   "cell_type": "markdown",
   "metadata": {
    "deletable": true,
    "editable": true
   },
   "source": [
    "SQUAD can be used without prior definition of a Boolean model. Its main methods are: \n",
    "* squad() sets up initial states and parameters, along with running simulations.\n",
    "* getAttractorsSQUAD() calculates stationary states of the model. "
   ]
  },
  {
   "cell_type": "markdown",
   "metadata": {
    "deletable": true,
    "editable": true
   },
   "source": [
    "## 2. Instaling SQUAD"
   ]
  },
  {
   "cell_type": "markdown",
   "metadata": {
    "deletable": true,
    "editable": true
   },
   "source": [
    "Prior to use the SQUAD R package please install the following packages."
   ]
  },
  {
   "cell_type": "markdown",
   "metadata": {
    "deletable": true,
    "editable": true
   },
   "source": [
    "* deSolve\n",
    "* RColorBrewer\n",
    "* ggthemes\n",
    "* ggplot2\n",
    "* BoolNet\n",
    "* reshape"
   ]
  },
  {
   "cell_type": "markdown",
   "metadata": {
    "deletable": true,
    "editable": true
   },
   "source": [
    "Some of these packages may require the instalation of devtools and XML libraries. To instal the SQUAD R package please run the following command inside R."
   ]
  },
  {
   "cell_type": "code",
   "execution_count": 46,
   "metadata": {
    "collapsed": true,
    "deletable": true,
    "editable": true
   },
   "outputs": [],
   "source": [
    "# temporary loading from github\n",
    "source(\"https://raw.githubusercontent.com/caramirezal/SQUAD/master/SQUAD.R\")"
   ]
  },
  {
   "cell_type": "markdown",
   "metadata": {
    "deletable": true,
    "editable": true
   },
   "source": [
    "## 3. Defining and running a simulation using SQUAD formalism"
   ]
  },
  {
   "cell_type": "markdown",
   "metadata": {
    "deletable": true,
    "editable": true
   },
   "source": [
    "# 3.1. Definition of the regulatory network using SQUAD format"
   ]
  },
  {
   "cell_type": "markdown",
   "metadata": {
    "deletable": true,
    "editable": true
   },
   "source": [
    "In order to define a regulatory network model using SQUAD method it is necessary to define an ODE system as that \n",
    "defined in <a href=\"http://doi.org/10.1016/j.biosystems.2013.05.007\"> Martínez, et 2013 </a>. The stardardized ODE functions requires a set of $\\omega$ parameter functions for each node. This set of $\\omega$ inputs can be defined using the following SQUAD format written in a independent text file. In this example, the file is named \n",
    "\"regulatoryNetwork.txt\". This file has a header which contains the \"targets; factors\" string which indicates it \n",
    "is a SQUAD format file to the R package. "
   ]
  },
  {
   "cell_type": "raw",
   "metadata": {
    "deletable": true,
    "editable": true
   },
   "source": [
    "targets; factors\n",
    "A; A\n",
    "B; min(A,1-C)\n",
    "C; 1 - max(A,B)"
   ]
  },
  {
   "cell_type": "markdown",
   "metadata": {
    "deletable": true,
    "editable": true
   },
   "source": [
    "The already defined file is analogous to the <a href=\"https://academic.oup.com/bioinformatics/article/26/10/1378/193238/BoolNet-an-R-package-for-generation-reconstruction\">BoolNet R Package</a> format. If you are familiar with BoolNet you most notice that commas are changed by semicolons. "
   ]
  },
  {
   "cell_type": "markdown",
   "metadata": {
    "deletable": true,
    "editable": true
   },
   "source": [
    "The file is then transformed to squad model by using the loadNetworkSQUAD() function."
   ]
  },
  {
   "cell_type": "code",
   "execution_count": 47,
   "metadata": {
    "collapsed": false,
    "deletable": true,
    "editable": true
   },
   "outputs": [],
   "source": [
    "net <- loadNetworkSQUAD(\"regulatoryNetwork.txt\")"
   ]
  },
  {
   "cell_type": "markdown",
   "metadata": {
    "deletable": true,
    "editable": true
   },
   "source": [
    "Once the network is loaded we can set up initial conditions and paramters along with running simulations by using the squad() function as follows."
   ]
  },
  {
   "cell_type": "code",
   "execution_count": 48,
   "metadata": {
    "collapsed": false
   },
   "outputs": [
    {
     "data": {
      "image/png": "[encoded data removed]",
      "text/plain": [
       "plot without title"
      ]
     },
     "metadata": {},
     "output_type": "display_data"
    }
   ],
   "source": [
    "initialState <- c(0,1,0)\n",
    "#times <- seq(0,10,by=0.5)\n",
    "h <- c(30,40,50)\n",
    "gamma <- c(0.8,1,1.2)\n",
    "parameters <- list(h,gamma)\n",
    "squad(net, initialState=initialState,parameters=parameters,\n",
    "     timePeriod=3,lengthInterval=0.05)"
   ]
  },
  {
   "cell_type": "markdown",
   "metadata": {},
   "source": [
    "From the simulation it can be seen that starting from the initial state $(0,1,0)$ the network transits to $(0,0,1)$ where it remains constant. That is to say, it reaches a stationary state."
   ]
  },
  {
   "cell_type": "markdown",
   "metadata": {
    "collapsed": true,
    "deletable": true,
    "editable": true
   },
   "source": [
    "## 3.2. Starting with a discrete BRN model"
   ]
  },
  {
   "cell_type": "markdown",
   "metadata": {
    "deletable": true,
    "editable": true
   },
   "source": [
    "As mentioned aboved, BRN are parameters free simple models which emphasizes in the study of the dynamics driven\n",
    "by the combinatory of values of the regulators that determines the levels of activations of the nodes in the\n",
    "network. In practice, it is usually convenient to start with such a simple approach and then transit to more \n",
    "complex formalism if needed. SQUAD method can be used in combination with BoolNet to acomplish this task\n",
    "as follows."
   ]
  },
  {
   "cell_type": "code",
   "execution_count": 52,
   "metadata": {
    "collapsed": false
   },
   "outputs": [
    {
     "data": {
      "image/png": "[encoded data removed]",
      "text/plain": [
       "plot without title"
      ]
     },
     "metadata": {},
     "output_type": "display_data"
    }
   ],
   "source": [
    "library(BoolNet)\n",
    "\n",
    "net.bool <- loadNetwork(\"booleanModel.txt\")\n",
    "net.squad <- asContinuous(net.bool)\n",
    "\n",
    "squad(net.squad,initialState = c(0,1,0),timePeriod = 3,lengthInterval = 0.05)"
   ]
  },
  {
   "cell_type": "markdown",
   "metadata": {},
   "source": [
    "In this case we use the same initial states as before. Note that we can see the same transition are observed. In this case we used $gamma = 1$ and $h = 50$ as default values.\n"
   ]
  }
 ],
 "metadata": {
  "kernelspec": {
   "display_name": "R",
   "language": "R",
   "name": "ir"
  },
  "language_info": {
   "codemirror_mode": "r",
   "file_extension": ".r",
   "mimetype": "text/x-r-source",
   "name": "R",
   "pygments_lexer": "r",
   "version": "3.3.2"
  }
 },
 "nbformat": 4,
 "nbformat_minor": 2
}
